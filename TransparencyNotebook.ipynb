{
 "cells": [
  {
   "cell_type": "markdown",
   "metadata": {},
   "source": [
    "# Дополнительные инструменты"
   ]
  },
  {
   "cell_type": "markdown",
   "metadata": {},
   "source": [
    "### Стандартизация числовых значений"
   ]
  },
  {
   "cell_type": "code",
   "execution_count": null,
   "metadata": {},
   "outputs": [],
   "source": [
    "import pandas as pd\n",
    "df = pd.read_csv(\"finished.csv\")"
   ]
  },
  {
   "cell_type": "code",
   "execution_count": null,
   "metadata": {},
   "outputs": [],
   "source": [
    "def change_str(s): #нормализация численных значений\n",
    "    res = ''\n",
    "    for c in s:\n",
    "        if c.isnumeric() or c == '.' or c == ',':\n",
    "            res += c\n",
    "    \n",
    "    if res == '' or res == '0':\n",
    "        return float(0)\n",
    "    \n",
    "    res = list(res)\n",
    "    if len(res) < 3:\n",
    "        print(res)\n",
    "        return(float(input()))\n",
    "    \n",
    "    if res[-1] == ',':\n",
    "        res[-1] = '.'\n",
    "    if res[-2] == ',':\n",
    "        res[-2] = '.'\n",
    "    if res[-3] == ',':\n",
    "        res[-3] = '.'\n",
    "        \n",
    "    res = str(res)\n",
    "    \n",
    "    ans = ''\n",
    "    \n",
    "    for c in res:\n",
    "        if c.isnumeric() or c == '.':\n",
    "            ans += c\n",
    "    return float(ans)\n"
   ]
  },
  {
   "cell_type": "code",
   "execution_count": null,
   "metadata": {},
   "outputs": [],
   "source": [
    "def do(row):\n",
    "    return change_str(str(row['income_2017']))\n",
    "\n",
    "df['new_income'] = df.apply(do, axis=1)"
   ]
  },
  {
   "cell_type": "code",
   "execution_count": null,
   "metadata": {},
   "outputs": [],
   "source": [
    "df.to_csv(\"new.csv\")"
   ]
  },
  {
   "cell_type": "markdown",
   "metadata": {},
   "source": [
    "### Получение информации для графика о доходах"
   ]
  },
  {
   "cell_type": "code",
   "execution_count": null,
   "metadata": {},
   "outputs": [],
   "source": [
    "def get_genderM(row):\n",
    "    \n",
    "M = df.apply(get_genderM)"
   ]
  },
  {
   "cell_type": "code",
   "execution_count": null,
   "metadata": {},
   "outputs": [],
   "source": [
    "df = pd.DataFrame()"
   ]
  },
  {
   "cell_type": "code",
   "execution_count": null,
   "metadata": {},
   "outputs": [],
   "source": [
    "df['percent'] = range(0, 3331)"
   ]
  },
  {
   "cell_type": "code",
   "execution_count": null,
   "metadata": {},
   "outputs": [],
   "source": [
    "df['percent'] = df['percent'] / 3331"
   ]
  },
  {
   "cell_type": "code",
   "execution_count": null,
   "metadata": {},
   "outputs": [],
   "source": [
    "M = list(df[df['correct_gender'] == 'M']['new_income'])\n",
    "M.sort()\n",
    "newm = M[::len(M) // 100]\n",
    "\n",
    "F = list(df[df['correct_gender'] == 'F']['new_income'])\n",
    "F.sort()\n",
    "\n",
    "newf = F[::len(F)//100]"
   ]
  },
  {
   "cell_type": "code",
   "execution_count": null,
   "metadata": {},
   "outputs": [],
   "source": [
    "df = pd.DataFrame()\n",
    "df[\"Income M\"] = newm\n",
    "df[\"Income F\"] = newf"
   ]
  },
  {
   "cell_type": "code",
   "execution_count": null,
   "metadata": {},
   "outputs": [],
   "source": [
    "df.to_csv(\"malefem.csv\")"
   ]
  }
 ],
 "metadata": {
  "kernelspec": {
   "display_name": "Python 3",
   "language": "python",
   "name": "python3"
  },
  "language_info": {
   "codemirror_mode": {
    "name": "ipython",
    "version": 3
   },
   "file_extension": ".py",
   "mimetype": "text/x-python",
   "name": "python",
   "nbconvert_exporter": "python",
   "pygments_lexer": "ipython3",
   "version": "3.7.0"
  }
 },
 "nbformat": 4,
 "nbformat_minor": 2
}

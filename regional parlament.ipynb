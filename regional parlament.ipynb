{
 "cells": [
  {
   "cell_type": "code",
   "execution_count": 1,
   "metadata": {},
   "outputs": [],
   "source": [
    "import requests\n",
    "from bs4 import BeautifulSoup\n",
    "from datetime import datetime\n",
    "import pymongo\n",
    "import pandas as pd\n",
    "from bson import ObjectId\n",
    "import forhn"
   ]
  },
  {
   "cell_type": "code",
   "execution_count": 2,
   "metadata": {},
   "outputs": [],
   "source": [
    "# connect to the MongoDB\n",
    "connection = pymongo.MongoClient('mongodb+srv://)\n",
    "\n",
    "db = connection.hack     # attach to db\n",
    "collection = db.hack"
   ]
  },
  {
   "cell_type": "markdown",
   "metadata": {},
   "source": [
    "# Update XLS"
   ]
  },
  {
   "cell_type": "code",
   "execution_count": 3,
   "metadata": {},
   "outputs": [],
   "source": [
    "df_links = pd.read_excel('nhack links for parsing.xlsx', sheet_name='Links', dtype={'link': str}) #list of proposed types and names"
   ]
  },
  {
   "cell_type": "markdown",
   "metadata": {},
   "source": [
    "# Select region"
   ]
  },
  {
   "cell_type": "code",
   "execution_count": 118,
   "metadata": {},
   "outputs": [
    {
     "name": "stdout",
     "output_type": "stream",
     "text": [
      "Total elections links: 6\n"
     ]
    }
   ],
   "source": [
    "region = 93\n",
    "variant=1 #0 или 1\n",
    "election_links = list(df_links[df_links['region']==region].link)\n",
    "print('Total elections links:', len(election_links))"
   ]
  },
  {
   "cell_type": "markdown",
   "metadata": {},
   "source": [
    "# Select election link to parse"
   ]
  },
  {
   "cell_type": "code",
   "execution_count": 137,
   "metadata": {},
   "outputs": [
    {
     "data": {
      "text/plain": [
       "'http://www.crimea.vybory.izbirkom.ru/region/region/crimea?action=show&root=1&tvd=2932000293076&vrn=2932000293067&region=93&global=&sub_region=93&prver=0&pronetvd=0&vibid=2932000293067&type=220'"
      ]
     },
     "execution_count": 137,
     "metadata": {},
     "output_type": "execute_result"
    }
   ],
   "source": [
    "url = election_links[5].strip()\n",
    "url"
   ]
  },
  {
   "cell_type": "markdown",
   "metadata": {},
   "source": [
    "# First Page "
   ]
  },
  {
   "cell_type": "code",
   "execution_count": 138,
   "metadata": {},
   "outputs": [
    {
     "name": "stdout",
     "output_type": "stream",
     "text": [
      "Row in info: 2\n",
      "Columns: 8\n",
      "Total persons: 7 \n",
      "\n",
      "{'type': 'сведения о кандидатах, выдвинутых по одномандатным (многомандатным) избирательным округам', 'name': 'дополнительные выборы депутата государственного совета республики крым первого созыва по ленинскому одномандатному избирательному округу №12', 'date_of_vote': datetime.datetime(2017, 9, 10, 0, 0), 'region': 93, 'as_of': datetime.datetime(2019, 4, 28, 7, 2, 52, 506422), 'url': 'http://www.crimea.vybory.izbirkom.ru/region/region/crimea?action=show&root=1&tvd=2932000293076&vrn=2932000293067&region=93&global=&sub_region=93&prver=0&pronetvd=0&vibid=2932000293067&type=220'}\n"
     ]
    }
   ],
   "source": [
    "r = requests.get(url)\n",
    "if r.status_code != requests.codes.ok:\n",
    "    print('Problem to get url', r.status_code)\n",
    "\n",
    "#parse first page for links to all\n",
    "election_info = forhn.parse_first_page(r.text, variant=variant)\n",
    "\n",
    "election={}\n",
    "election['type'] = election_info['type']\n",
    "election['name'] = election_info['name']\n",
    "election['date_of_vote'] = election_info['date_of_vote']\n",
    "\n",
    "#extract region \n",
    "params = url.split('?')[1].split('&')\n",
    "params2 = [param.split('=') for param in params]\n",
    "params3 = [[param[0],param[1]] for param in params2]\n",
    "region = [param[1] for param in params3 if param[0]=='region']\n",
    "election['region'] = int(region[0])\n",
    "election['as_of'] = datetime.today()\n",
    "election['url'] = url.strip()\n",
    "\n",
    "print('Total persons:', election_info['total_records'], '\\n')\n",
    "#info for records\n",
    "print(election)\n",
    "\n",
    "#add first page \n",
    "election_info['links'].append(url.strip())"
   ]
  },
  {
   "cell_type": "markdown",
   "metadata": {},
   "source": [
    "# Parsing"
   ]
  },
  {
   "cell_type": "code",
   "execution_count": 139,
   "metadata": {},
   "outputs": [
    {
     "name": "stdout",
     "output_type": "stream",
     "text": [
      "http://www.crimea.vybory.izbirkom.ru/region/region/crimea?action=show&root=1&tvd=2932000293076&vrn=2932000293067&region=93&global=&sub_region=93&prver=0&pronetvd=0&vibid=2932000293067&type=220 \n",
      "Parsing...\n",
      "1\n",
      "2\n",
      "3\n",
      "4\n",
      "5\n",
      "6\n",
      "7\n",
      "Saved\n",
      "\n"
     ]
    }
   ],
   "source": [
    "for link in election_info['links']:\n",
    "    \n",
    "    list_of_docs = []# list of records\n",
    "    print(link, '\\nParsing...')\n",
    "    r = requests.get(link.strip())\n",
    "    if r.status_code != requests.codes.ok:\n",
    "        print('Problem to get url', r.status_code)\n",
    "    persons = forhn.parse_page(r.text, variant)\n",
    "    \n",
    "    for data in persons:\n",
    "        \n",
    "        print(data[0])# for progress\n",
    "        \n",
    "        record={} #info about person\n",
    "        record['election'] = election\n",
    "        \n",
    "        #info from page\n",
    "        for i in range(0,len(election_info['columns'])):\n",
    "            if i==0:\n",
    "                continue\n",
    "            if i==1:\n",
    "                record['url'] = data[i]\n",
    "                continue\n",
    "\n",
    "            record[election_info['columns'][i]] = data[i]\n",
    "    \n",
    "        r = requests.get(record['url'])\n",
    "        if r.status_code != requests.codes.ok:\n",
    "            print('Problem to get url', r.status_code)\n",
    "\n",
    "        person=forhn.parse_person_page(r.text, variant=variant)\n",
    "        \n",
    "        #info from person page \n",
    "        keys = list(person.keys())\n",
    "        \n",
    "        #name and sex\n",
    "        member = forhn.parse_name_and_sex(person['ФИО'])\n",
    "        if member:\n",
    "            key_member = member.keys()\n",
    "            if 'sex' in key_member:\n",
    "                record['sex'] = member['sex']\n",
    "            if 'name' in key_member:\n",
    "                record['name'] = member['name']\n",
    "        else:\n",
    "            record['name_str'] = person[keys[0]]\n",
    "        \n",
    "        #just copy\n",
    "        if  person[keys[1]]:\n",
    "            record['date of birth'] = person[keys[1]]\n",
    "            \n",
    "        if  person[keys[2]]:\n",
    "            record['place of birth'] = person[keys[2]]\n",
    "\n",
    "        if  person[keys[3]]:\n",
    "            record['location'] =  person[keys[3]]\n",
    "\n",
    "        if person[keys[4]]:\n",
    "            record['education'] =  person[keys[4]]\n",
    "\n",
    "        if person[keys[5]]:\n",
    "            record['work'] = person[keys[5]]\n",
    "\n",
    "        if person[keys[6]]:\n",
    "            record['position'] =  person[keys[6]]\n",
    "\n",
    "        if person[keys[7]]:\n",
    "            record['non-perm deputy'] =  person[keys[7]]\n",
    "\n",
    "        if person[keys[8]]:\n",
    "            record['conviction'] =  person[keys[8]]\n",
    "\n",
    "        if person[keys[9]]:\n",
    "            record['participant status'] =  person[keys[9]]\n",
    "        \n",
    "        list_of_docs.append(record)\n",
    "\n",
    "        \n",
    "    try:\n",
    "        collection.insert_many(list_of_docs)\n",
    "    except Exception as e:\n",
    "        print(\"Error trying to insert collection:\", type(e), e)\n",
    "    print('Saved\\n')"
   ]
  },
  {
   "cell_type": "code",
   "execution_count": 13,
   "metadata": {},
   "outputs": [
    {
     "data": {
      "text/plain": [
       "['http://www.mordov.vybory.izbirkom.ru/region/region/mordov?action=show&root=1&tvd=2132000677166&vrn=2132000677161&region=13&global=&sub_region=13&prver=1&pronetvd=1&vibid=2132000677161&type=220&report_mode=1']"
      ]
     },
     "execution_count": 13,
     "metadata": {},
     "output_type": "execute_result"
    }
   ],
   "source": [
    "election_info['links']"
   ]
  },
  {
   "cell_type": "code",
   "execution_count": null,
   "metadata": {},
   "outputs": [],
   "source": []
  }
 ],
 "metadata": {
  "kernelspec": {
   "display_name": "Python 3",
   "language": "python",
   "name": "python3"
  },
  "language_info": {
   "codemirror_mode": {
    "name": "ipython",
    "version": 3
   },
   "file_extension": ".py",
   "mimetype": "text/x-python",
   "name": "python",
   "nbconvert_exporter": "python",
   "pygments_lexer": "ipython3",
   "version": "3.7.2"
  }
 },
 "nbformat": 4,
 "nbformat_minor": 2
}
